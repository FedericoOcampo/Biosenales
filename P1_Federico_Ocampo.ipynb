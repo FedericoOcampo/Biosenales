{
  "nbformat": 4,
  "nbformat_minor": 0,
  "metadata": {
    "colab": {
      "provenance": []
    },
    "kernelspec": {
      "name": "python3",
      "display_name": "Python 3"
    },
    "language_info": {
      "name": "python"
    }
  },
  "cells": [
    {
      "cell_type": "markdown",
      "source": [
        "PRACTICA 1 | LABORATORIO BIOSEÑALES\n",
        "\n",
        "FEDERICO OCAMPO"
      ],
      "metadata": {
        "id": "Wv5VPQN2B9A8"
      }
    },
    {
      "cell_type": "code",
      "source": [
        "import numpy as np\n",
        "import pandas as pd\n",
        "import matplotlib.pyplot as plt"
      ],
      "metadata": {
        "id": "arnMa9l6Ejvj"
      },
      "execution_count": null,
      "outputs": []
    },
    {
      "cell_type": "code",
      "source": [
        "#a) Cree el par de vectores:\n",
        "a = np.array([3.1, 1, -0.5, -3.2, 6])\n",
        "b = np.array([1, 3, 2.2, 5.1, 1] )"
      ],
      "metadata": {
        "id": "uyk1YcWkCPQK",
        "colab": {
          "base_uri": "https://localhost:8080/"
        },
        "outputId": "ec3bc66e-fcda-4176-edc2-f1220e43e665"
      },
      "execution_count": null,
      "outputs": [
        {
          "output_type": "stream",
          "name": "stdout",
          "text": [
            "[ 9.3  3.  -1.5 -9.6 18. ] [ 500. 1500. 1100. 2550.  500.] -5.32\n"
          ]
        }
      ]
    },
    {
      "cell_type": "code",
      "source": [
        "#b) Multiplicación escalar\n",
        "# R:// se debe implementar un arreglo de numpy para poder realizar la multiplicación\n",
        "# por medio de funciones ya establecidas y además se debe cumplir con la condición de dimensión\n",
        "Multi_escalar = np.dot(a,b)\n",
        "print('\\n',Multi_escalar)"
      ],
      "metadata": {
        "colab": {
          "base_uri": "https://localhost:8080/"
        },
        "id": "nl0w7PwohcTP",
        "outputId": "40a4670a-c59e-4ed0-8ce8-01740b32d5f4"
      },
      "execution_count": null,
      "outputs": [
        {
          "output_type": "stream",
          "name": "stdout",
          "text": [
            "\n",
            " -5.32\n"
          ]
        }
      ]
    },
    {
      "cell_type": "code",
      "source": [
        "#c) Multiplicación punto a punto\n",
        "Multi_punto = a*b\n",
        "print('\\n',Multi_punto)"
      ],
      "metadata": {
        "colab": {
          "base_uri": "https://localhost:8080/"
        },
        "id": "RRcx2-JIhiiD",
        "outputId": "0feca954-64e0-480a-dc08-be61d406265d"
      },
      "execution_count": null,
      "outputs": [
        {
          "output_type": "stream",
          "name": "stdout",
          "text": [
            "\n",
            " [  3.1    3.    -1.1  -16.32   6.  ]\n"
          ]
        }
      ]
    },
    {
      "cell_type": "code",
      "source": [
        "#d) Construir matriz\n",
        "A = np.array([\n",
        "    [2,-1,-3],\n",
        "    [4,1.5,-2.5],\n",
        "    [7.3,-0.9,0.2]])\n",
        "print('\\n''A: \\n',A)"
      ],
      "metadata": {
        "colab": {
          "base_uri": "https://localhost:8080/"
        },
        "id": "0b4Tr41OIcZi",
        "outputId": "df787b9c-690a-41ab-aebf-87a309757bb1"
      },
      "execution_count": null,
      "outputs": [
        {
          "output_type": "stream",
          "name": "stdout",
          "text": [
            "\n",
            "A: \n",
            " [[ 2.  -1.  -3. ]\n",
            " [ 4.   1.5 -2.5]\n",
            " [ 7.3 -0.9  0.2]]\n"
          ]
        }
      ]
    },
    {
      "cell_type": "code",
      "source": [
        "#e) Obtener transpuesta\n",
        "trans = A.T\n",
        "print(trans)"
      ],
      "metadata": {
        "colab": {
          "base_uri": "https://localhost:8080/"
        },
        "id": "cfTGMP6lJVq6",
        "outputId": "7cc0e488-48de-42ce-e467-1fd000292363"
      },
      "execution_count": null,
      "outputs": [
        {
          "output_type": "stream",
          "name": "stdout",
          "text": [
            "[[ 2.   4.   7.3]\n",
            " [-1.   1.5 -0.9]\n",
            " [-3.  -2.5  0.2]]\n"
          ]
        }
      ]
    },
    {
      "cell_type": "markdown",
      "source": [
        "CONSULTA"
      ],
      "metadata": {
        "id": "AZ92_qiKS4PP"
      }
    },
    {
      "cell_type": "code",
      "source": [
        "#f) Consultar e implementar:\n",
        "# ones (genera una matriz de unos)\n",
        "matriz_unos = np.ones([3,3])\n",
        "print('\\n Ones \\n',matriz_unos)\n",
        "\n",
        "# round (redondea un numero definido de decimales)\n",
        "matriz_round = np.round(A,0)\n",
        "print('\\n Round: \\n',matriz_round)\n",
        "\n",
        "# ceil (redondea un numero hacia arriba)\n",
        "matriz_ceil = np.ceil(A)\n",
        "print('\\n Ceil: \\n', matriz_ceil)\n",
        "\n",
        "#floor (redondea un numero abajo)\n",
        "matriz_floor = np.floor(A)\n",
        "print('\\n Floor: \\n',matriz_floor)"
      ],
      "metadata": {
        "id": "etD77nCQS2y3",
        "colab": {
          "base_uri": "https://localhost:8080/"
        },
        "outputId": "6e162a1e-fb35-4756-8ddd-0bc02d7dacfb"
      },
      "execution_count": null,
      "outputs": [
        {
          "output_type": "stream",
          "name": "stdout",
          "text": [
            "\n",
            " Ones \n",
            " [[1. 1. 1.]\n",
            " [1. 1. 1.]\n",
            " [1. 1. 1.]]\n",
            "\n",
            " Round: \n",
            " [[ 2. -1. -3.]\n",
            " [ 4.  2. -2.]\n",
            " [ 7. -1.  0.]]\n",
            "\n",
            " Ceil: \n",
            " [[ 2. -1. -3.]\n",
            " [ 4.  2. -2.]\n",
            " [ 8. -0.  1.]]\n",
            "\n",
            " Floor: \n",
            " [[ 2. -1. -3.]\n",
            " [ 4.  1. -3.]\n",
            " [ 7. -1.  0.]]\n"
          ]
        }
      ]
    },
    {
      "cell_type": "code",
      "source": [
        "#g) Acceder al valor 1er fila, 3er columna\n",
        "print(A[0,2])\n",
        "\n",
        "#h) Segunda fila\n",
        "print(A[1,:])"
      ],
      "metadata": {
        "colab": {
          "base_uri": "https://localhost:8080/"
        },
        "id": "gboaSCCkJ1pa",
        "outputId": "df6beaef-7818-4a8e-e3f1-04677a117abd"
      },
      "execution_count": null,
      "outputs": [
        {
          "output_type": "stream",
          "name": "stdout",
          "text": [
            "-3.0\n",
            "[ 4.   1.5 -2.5]\n"
          ]
        }
      ]
    },
    {
      "cell_type": "code",
      "source": [
        "#i) Dimensiones\n",
        "dim = np.shape(A)\n",
        "print (dim)"
      ],
      "metadata": {
        "colab": {
          "base_uri": "https://localhost:8080/"
        },
        "id": "QHpfB47sKStC",
        "outputId": "bc8c6b78-76c3-4315-a43b-71b900966c38"
      },
      "execution_count": null,
      "outputs": [
        {
          "output_type": "stream",
          "name": "stdout",
          "text": [
            "(3, 3)\n"
          ]
        }
      ]
    },
    {
      "cell_type": "code",
      "source": [
        "#j) Función seno\n",
        "n = np.arange(0,101,1)\n",
        "y1 = np.sin(np.pi*0.12*n)\n",
        "\n",
        "#k) Función cos\n",
        "y2 = np.cos(np.pi*2*0.03*n)"
      ],
      "metadata": {
        "id": "vYB3QJrTKh7a"
      },
      "execution_count": null,
      "outputs": []
    },
    {
      "cell_type": "code",
      "source": [
        "#l) Suma y multiplicación de señales\n",
        "s = y1 + y2\n",
        "t = y1 * y2"
      ],
      "metadata": {
        "id": "mmau2fpUMnHZ"
      },
      "execution_count": null,
      "outputs": []
    },
    {
      "cell_type": "code",
      "source": [
        "#m) Graficar las señales sen y cos\n",
        "plt.figure()\n",
        "plt.plot(n, y1, label='y[n] = sin(π * 0.12 * n)', color='pink')\n",
        "plt.plot(n, y2, label='y2[n] = cos(2π * 0.03n)', color = 'purple')\n",
        "plt.xlabel('Tiempo [s]')\n",
        "plt.ylabel('Amplitud')\n",
        "plt.title('Señales sen y cos')\n",
        "plt.ylim(-1.2,1.5)\n",
        "plt.legend()\n",
        "plt.grid()\n",
        "plt.show()"
      ],
      "metadata": {
        "colab": {
          "base_uri": "https://localhost:8080/",
          "height": 472
        },
        "id": "sNcmSawlM3U4",
        "outputId": "7954737f-c51e-408e-aa4a-c3b8664e3eb6"
      },
      "execution_count": null,
      "outputs": [
        {
          "output_type": "display_data",
          "data": {
            "text/plain": [
              "<Figure size 640x480 with 1 Axes>"
            ],
            "image/png": "[encoded data removed]"
          },
          "metadata": {}
        }
      ]
    },
    {
      "cell_type": "code",
      "source": [
        "#n) Grafica de señales operadas\n",
        "plt.figure()\n",
        "plt.plot(n, s, label='s[n] = y[n] + y2[n]', color='deepskyblue')\n",
        "plt.plot(n, t, label='t[n] = y[n] * y2[n]', color = 'lightcoral')\n",
        "plt.title('Señales Operadas')\n",
        "plt.xlabel('Tiempo [s]')\n",
        "plt.ylabel('Amplitud')\n",
        "plt.ylim(-1.9,2.4)\n",
        "plt.legend()\n",
        "plt.grid()\n",
        "plt.show()"
      ],
      "metadata": {
        "colab": {
          "base_uri": "https://localhost:8080/",
          "height": 472
        },
        "id": "ImF1b2uZO7xB",
        "outputId": "5018a93e-ea67-4f58-c973-676fcd348f2a"
      },
      "execution_count": null,
      "outputs": [
        {
          "output_type": "display_data",
          "data": {
            "text/plain": [
              "<Figure size 640x480 with 1 Axes>"
            ],
            "image/png": "[encoded data removed]"
          },
          "metadata": {}
        }
      ]
    },
    {
      "cell_type": "markdown",
      "source": [
        "PANDAS"
      ],
      "metadata": {
        "id": "jhkKW3-MTG33"
      }
    },
    {
      "cell_type": "code",
      "source": [
        "import pandas as pd\n",
        "import numpy as np\n",
        "\n",
        "def organiza_notas(notas):\n",
        "\n",
        "    serie_notas = pd.Series(notas)\n",
        "\n",
        "    max = serie_notas.max()\n",
        "    min = serie_notas.min()\n",
        "    media = serie_notas.mean()\n",
        "    desv = serie_notas.std()\n",
        "\n",
        "    return pd.Series([max, min, media, desv ], index=['nota max', 'nota min', 'media', 'desviación'])\n",
        "\n",
        "\n",
        "notas_obtenidad = {'Juan': 1, 'Camilo': 2, 'Luisa': 4.5, 'Miguel': 4.5, 'Juliana': 2}\n",
        "\n",
        "print(organiza_notas(notas_obtenidad))"
      ],
      "metadata": {
        "id": "lA5Jxa1comu2",
        "outputId": "e3fbc832-b26b-4235-de6f-d475905d86de",
        "colab": {
          "base_uri": "https://localhost:8080/"
        }
      },
      "execution_count": null,
      "outputs": [
        {
          "output_type": "stream",
          "name": "stdout",
          "text": [
            "nota max      4.500000\n",
            "nota min      1.000000\n",
            "media         2.800000\n",
            "desviación    1.604681\n",
            "dtype: float64\n"
          ]
        }
      ]
    },
    {
      "cell_type": "code",
      "source": [
        "from google.colab import drive\n",
        "drive.mount('/content/drive')"
      ],
      "metadata": {
        "id": "kGEGOr5InCff",
        "colab": {
          "base_uri": "https://localhost:8080/"
        },
        "outputId": "c8d0ba62-2f72-4f8a-c44f-2cccfabc5dee"
      },
      "execution_count": 69,
      "outputs": [
        {
          "output_type": "stream",
          "name": "stdout",
          "text": [
            "Mounted at /content/drive\n"
          ]
        }
      ]
    },
    {
      "cell_type": "code",
      "source": [
        "#a) Cargar datos\n",
        "bd = pd.read_csv('/content/drive/MyDrive/Bioseñales/P1_Federico Ocampo/datos.csv',sep=';')\n",
        "\n",
        "#b) Mostrar primeras y ultimas filas\n",
        "print(bd.head())\n",
        "print(bd.tail())\n"
      ],
      "metadata": {
        "id": "K03DjtcuRtof",
        "colab": {
          "base_uri": "https://localhost:8080/"
        },
        "outputId": "dc7ffe1e-9cb8-45f2-bf00-629952fcb3b4"
      },
      "execution_count": 74,
      "outputs": [
        {
          "output_type": "stream",
          "name": "stdout",
          "text": [
            "   Unnamed: 0  Gender  FSIQ  VIQ  PIQ  Weight  Height  MRI_Count\n",
            "0           1  Female   133  132  124   118.0    64.5     816932\n",
            "1           3    Male   139  123  150   143.0    73.3    1038437\n",
            "2           4    Male   133  129  128   172.0    68.8     965353\n",
            "3           5  Female   137  132  134   147.0    65.0     951545\n",
            "4           6  Female    99   90  110   146.0    69.0     928799\n",
            "    Unnamed: 0  Gender  FSIQ  VIQ  PIQ  Weight  Height  MRI_Count\n",
            "33          36  Female   133  129  128   153.0    66.5     948066\n",
            "34          37    Male   140  150  124   144.0    70.5     949395\n",
            "35          38  Female    88   86   94   139.0    64.5     893983\n",
            "36          39    Male    81   90   74   148.0    74.0     930016\n",
            "37          40    Male    89   91   89   179.0    75.5     935863\n"
          ]
        }
      ]
    },
    {
      "cell_type": "code",
      "source": [
        "#c) Borrar columna\n",
        "bd.drop('Unnamed: 0',axis=1, inplace=False)"
      ],
      "metadata": {
        "colab": {
          "base_uri": "https://localhost:8080/",
          "height": 1000
        },
        "id": "HfDHrCKyWTdm",
        "outputId": "81c7896b-abe0-432e-c9ed-6931976309e6"
      },
      "execution_count": 71,
      "outputs": [
        {
          "output_type": "execute_result",
          "data": {
            "text/plain": [
              "    Gender  FSIQ  VIQ  PIQ  Weight  Height  MRI_Count\n",
              "0   Female   133  132  124   118.0    64.5     816932\n",
              "1     Male   139  123  150   143.0    73.3    1038437\n",
              "2     Male   133  129  128   172.0    68.8     965353\n",
              "3   Female   137  132  134   147.0    65.0     951545\n",
              "4   Female    99   90  110   146.0    69.0     928799\n",
              "5   Female   138  136  131   138.0    64.5     991305\n",
              "6   Female    92   90   98   175.0    66.0     854258\n",
              "7     Male    89   93   84   134.0    66.3     904858\n",
              "8     Male   133  114  147   172.0    68.8     955466\n",
              "9   Female   132  129  124   118.0    64.5     833868\n",
              "10    Male   141  150  128   151.0    70.0    1079549\n",
              "11    Male   135  129  124   155.0    69.0     924059\n",
              "12  Female   140  120  147   155.0    70.5     856472\n",
              "13  Female    96  100   90   146.0    66.0     878897\n",
              "14  Female    83   71   96   135.0    68.0     865363\n",
              "15  Female   132  132  120   127.0    68.5     852244\n",
              "16    Male   100   96  102   178.0    73.5     945088\n",
              "17  Female   101  112   84   136.0    66.3     808020\n",
              "18    Male    80   77   86   180.0    70.0     889083\n",
              "19    Male    97  107   84   186.0    76.5     905940\n",
              "20  Female   135  129  134   122.0    62.0     790619\n",
              "21    Male   139  145  128   132.0    68.0     955003\n",
              "22  Female    91   86  102   114.0    63.0     831772\n",
              "23    Male   141  145  131   171.0    72.0     935494\n",
              "24  Female    85   90   84   140.0    68.0     798612\n",
              "25    Male   103   96  110   187.0    77.0    1062462\n",
              "26  Female    77   83   72   106.0    63.0     793549\n",
              "27  Female   130  126  124   159.0    66.5     866662\n",
              "28  Female   133  126  132   127.0    62.5     857782\n",
              "29    Male   144  145  137   191.0    67.0     949589\n",
              "30    Male   103   96  110   192.0    75.5     997925\n",
              "31    Male    90   96   86   181.0    69.0     879987\n",
              "32  Female    83   90   81   143.0    66.5     834344\n",
              "33  Female   133  129  128   153.0    66.5     948066\n",
              "34    Male   140  150  124   144.0    70.5     949395\n",
              "35  Female    88   86   94   139.0    64.5     893983\n",
              "36    Male    81   90   74   148.0    74.0     930016\n",
              "37    Male    89   91   89   179.0    75.5     935863"
            ],
            "text/html": [
              "\n",
              "  <div id=\"df-673cf115-4c42-409c-90e8-36e9a1d49c9d\" class=\"colab-df-container\">\n",
              "    <div>\n",
              "<style scoped>\n",
              "    .dataframe tbody tr th:only-of-type {\n",
              "        vertical-align: middle;\n",
              "    }\n",
              "\n",
              "    .dataframe tbody tr th {\n",
              "        vertical-align: top;\n",
              "    }\n",
              "\n",
              "    .dataframe thead th {\n",
              "        text-align: right;\n",
              "    }\n",
              "</style>\n",
              "<table border=\"1\" class=\"dataframe\">\n",
              "  <thead>\n",
              "    <tr style=\"text-align: right;\">\n",
              "      <th></th>\n",
              "      <th>Gender</th>\n",
              "      <th>FSIQ</th>\n",
              "      <th>VIQ</th>\n",
              "      <th>PIQ</th>\n",
              "      <th>Weight</th>\n",
              "      <th>Height</th>\n",
              "      <th>MRI_Count</th>\n",
              "    </tr>\n",
              "  </thead>\n",
              "  <tbody>\n",
              "    <tr>\n",
              "      <th>0</th>\n",
              "      <td>Female</td>\n",
              "      <td>133</td>\n",
              "      <td>132</td>\n",
              "      <td>124</td>\n",
              "      <td>118.0</td>\n",
              "      <td>64.5</td>\n",
              "      <td>816932</td>\n",
              "    </tr>\n",
              "    <tr>\n",
              "      <th>1</th>\n",
              "      <td>Male</td>\n",
              "      <td>139</td>\n",
              "      <td>123</td>\n",
              "      <td>150</td>\n",
              "      <td>143.0</td>\n",
              "      <td>73.3</td>\n",
              "      <td>1038437</td>\n",
              "    </tr>\n",
              "    <tr>\n",
              "      <th>2</th>\n",
              "      <td>Male</td>\n",
              "      <td>133</td>\n",
              "      <td>129</td>\n",
              "      <td>128</td>\n",
              "      <td>172.0</td>\n",
              "      <td>68.8</td>\n",
              "      <td>965353</td>\n",
              "    </tr>\n",
              "    <tr>\n",
              "      <th>3</th>\n",
              "      <td>Female</td>\n",
              "      <td>137</td>\n",
              "      <td>132</td>\n",
              "      <td>134</td>\n",
              "      <td>147.0</td>\n",
              "      <td>65.0</td>\n",
              "      <td>951545</td>\n",
              "    </tr>\n",
              "    <tr>\n",
              "      <th>4</th>\n",
              "      <td>Female</td>\n",
              "      <td>99</td>\n",
              "      <td>90</td>\n",
              "      <td>110</td>\n",
              "      <td>146.0</td>\n",
              "      <td>69.0</td>\n",
              "      <td>928799</td>\n",
              "    </tr>\n",
              "    <tr>\n",
              "      <th>5</th>\n",
              "      <td>Female</td>\n",
              "      <td>138</td>\n",
              "      <td>136</td>\n",
              "      <td>131</td>\n",
              "      <td>138.0</td>\n",
              "      <td>64.5</td>\n",
              "      <td>991305</td>\n",
              "    </tr>\n",
              "    <tr>\n",
              "      <th>6</th>\n",
              "      <td>Female</td>\n",
              "      <td>92</td>\n",
              "      <td>90</td>\n",
              "      <td>98</td>\n",
              "      <td>175.0</td>\n",
              "      <td>66.0</td>\n",
              "      <td>854258</td>\n",
              "    </tr>\n",
              "    <tr>\n",
              "      <th>7</th>\n",
              "      <td>Male</td>\n",
              "      <td>89</td>\n",
              "      <td>93</td>\n",
              "      <td>84</td>\n",
              "      <td>134.0</td>\n",
              "      <td>66.3</td>\n",
              "      <td>904858</td>\n",
              "    </tr>\n",
              "    <tr>\n",
              "      <th>8</th>\n",
              "      <td>Male</td>\n",
              "      <td>133</td>\n",
              "      <td>114</td>\n",
              "      <td>147</td>\n",
              "      <td>172.0</td>\n",
              "      <td>68.8</td>\n",
              "      <td>955466</td>\n",
              "    </tr>\n",
              "    <tr>\n",
              "      <th>9</th>\n",
              "      <td>Female</td>\n",
              "      <td>132</td>\n",
              "      <td>129</td>\n",
              "      <td>124</td>\n",
              "      <td>118.0</td>\n",
              "      <td>64.5</td>\n",
              "      <td>833868</td>\n",
              "    </tr>\n",
              "    <tr>\n",
              "      <th>10</th>\n",
              "      <td>Male</td>\n",
              "      <td>141</td>\n",
              "      <td>150</td>\n",
              "      <td>128</td>\n",
              "      <td>151.0</td>\n",
              "      <td>70.0</td>\n",
              "      <td>1079549</td>\n",
              "    </tr>\n",
              "    <tr>\n",
              "      <th>11</th>\n",
              "      <td>Male</td>\n",
              "      <td>135</td>\n",
              "      <td>129</td>\n",
              "      <td>124</td>\n",
              "      <td>155.0</td>\n",
              "      <td>69.0</td>\n",
              "      <td>924059</td>\n",
              "    </tr>\n",
              "    <tr>\n",
              "      <th>12</th>\n",
              "      <td>Female</td>\n",
              "      <td>140</td>\n",
              "      <td>120</td>\n",
              "      <td>147</td>\n",
              "      <td>155.0</td>\n",
              "      <td>70.5</td>\n",
              "      <td>856472</td>\n",
              "    </tr>\n",
              "    <tr>\n",
              "      <th>13</th>\n",
              "      <td>Female</td>\n",
              "      <td>96</td>\n",
              "      <td>100</td>\n",
              "      <td>90</td>\n",
              "      <td>146.0</td>\n",
              "      <td>66.0</td>\n",
              "      <td>878897</td>\n",
              "    </tr>\n",
              "    <tr>\n",
              "      <th>14</th>\n",
              "      <td>Female</td>\n",
              "      <td>83</td>\n",
              "      <td>71</td>\n",
              "      <td>96</td>\n",
              "      <td>135.0</td>\n",
              "      <td>68.0</td>\n",
              "      <td>865363</td>\n",
              "    </tr>\n",
              "    <tr>\n",
              "      <th>15</th>\n",
              "      <td>Female</td>\n",
              "      <td>132</td>\n",
              "      <td>132</td>\n",
              "      <td>120</td>\n",
              "      <td>127.0</td>\n",
              "      <td>68.5</td>\n",
              "      <td>852244</td>\n",
              "    </tr>\n",
              "    <tr>\n",
              "      <th>16</th>\n",
              "      <td>Male</td>\n",
              "      <td>100</td>\n",
              "      <td>96</td>\n",
              "      <td>102</td>\n",
              "      <td>178.0</td>\n",
              "      <td>73.5</td>\n",
              "      <td>945088</td>\n",
              "    </tr>\n",
              "    <tr>\n",
              "      <th>17</th>\n",
              "      <td>Female</td>\n",
              "      <td>101</td>\n",
              "      <td>112</td>\n",
              "      <td>84</td>\n",
              "      <td>136.0</td>\n",
              "      <td>66.3</td>\n",
              "      <td>808020</td>\n",
              "    </tr>\n",
              "    <tr>\n",
              "      <th>18</th>\n",
              "      <td>Male</td>\n",
              "      <td>80</td>\n",
              "      <td>77</td>\n",
              "      <td>86</td>\n",
              "      <td>180.0</td>\n",
              "      <td>70.0</td>\n",
              "      <td>889083</td>\n",
              "    </tr>\n",
              "    <tr>\n",
              "      <th>19</th>\n",
              "      <td>Male</td>\n",
              "      <td>97</td>\n",
              "      <td>107</td>\n",
              "      <td>84</td>\n",
              "      <td>186.0</td>\n",
              "      <td>76.5</td>\n",
              "      <td>905940</td>\n",
              "    </tr>\n",
              "    <tr>\n",
              "      <th>20</th>\n",
              "      <td>Female</td>\n",
              "      <td>135</td>\n",
              "      <td>129</td>\n",
              "      <td>134</td>\n",
              "      <td>122.0</td>\n",
              "      <td>62.0</td>\n",
              "      <td>790619</td>\n",
              "    </tr>\n",
              "    <tr>\n",
              "      <th>21</th>\n",
              "      <td>Male</td>\n",
              "      <td>139</td>\n",
              "      <td>145</td>\n",
              "      <td>128</td>\n",
              "      <td>132.0</td>\n",
              "      <td>68.0</td>\n",
              "      <td>955003</td>\n",
              "    </tr>\n",
              "    <tr>\n",
              "      <th>22</th>\n",
              "      <td>Female</td>\n",
              "      <td>91</td>\n",
              "      <td>86</td>\n",
              "      <td>102</td>\n",
              "      <td>114.0</td>\n",
              "      <td>63.0</td>\n",
              "      <td>831772</td>\n",
              "    </tr>\n",
              "    <tr>\n",
              "      <th>23</th>\n",
              "      <td>Male</td>\n",
              "      <td>141</td>\n",
              "      <td>145</td>\n",
              "      <td>131</td>\n",
              "      <td>171.0</td>\n",
              "      <td>72.0</td>\n",
              "      <td>935494</td>\n",
              "    </tr>\n",
              "    <tr>\n",
              "      <th>24</th>\n",
              "      <td>Female</td>\n",
              "      <td>85</td>\n",
              "      <td>90</td>\n",
              "      <td>84</td>\n",
              "      <td>140.0</td>\n",
              "      <td>68.0</td>\n",
              "      <td>798612</td>\n",
              "    </tr>\n",
              "    <tr>\n",
              "      <th>25</th>\n",
              "      <td>Male</td>\n",
              "      <td>103</td>\n",
              "      <td>96</td>\n",
              "      <td>110</td>\n",
              "      <td>187.0</td>\n",
              "      <td>77.0</td>\n",
              "      <td>1062462</td>\n",
              "    </tr>\n",
              "    <tr>\n",
              "      <th>26</th>\n",
              "      <td>Female</td>\n",
              "      <td>77</td>\n",
              "      <td>83</td>\n",
              "      <td>72</td>\n",
              "      <td>106.0</td>\n",
              "      <td>63.0</td>\n",
              "      <td>793549</td>\n",
              "    </tr>\n",
              "    <tr>\n",
              "      <th>27</th>\n",
              "      <td>Female</td>\n",
              "      <td>130</td>\n",
              "      <td>126</td>\n",
              "      <td>124</td>\n",
              "      <td>159.0</td>\n",
              "      <td>66.5</td>\n",
              "      <td>866662</td>\n",
              "    </tr>\n",
              "    <tr>\n",
              "      <th>28</th>\n",
              "      <td>Female</td>\n",
              "      <td>133</td>\n",
              "      <td>126</td>\n",
              "      <td>132</td>\n",
              "      <td>127.0</td>\n",
              "      <td>62.5</td>\n",
              "      <td>857782</td>\n",
              "    </tr>\n",
              "    <tr>\n",
              "      <th>29</th>\n",
              "      <td>Male</td>\n",
              "      <td>144</td>\n",
              "      <td>145</td>\n",
              "      <td>137</td>\n",
              "      <td>191.0</td>\n",
              "      <td>67.0</td>\n",
              "      <td>949589</td>\n",
              "    </tr>\n",
              "    <tr>\n",
              "      <th>30</th>\n",
              "      <td>Male</td>\n",
              "      <td>103</td>\n",
              "      <td>96</td>\n",
              "      <td>110</td>\n",
              "      <td>192.0</td>\n",
              "      <td>75.5</td>\n",
              "      <td>997925</td>\n",
              "    </tr>\n",
              "    <tr>\n",
              "      <th>31</th>\n",
              "      <td>Male</td>\n",
              "      <td>90</td>\n",
              "      <td>96</td>\n",
              "      <td>86</td>\n",
              "      <td>181.0</td>\n",
              "      <td>69.0</td>\n",
              "      <td>879987</td>\n",
              "    </tr>\n",
              "    <tr>\n",
              "      <th>32</th>\n",
              "      <td>Female</td>\n",
              "      <td>83</td>\n",
              "      <td>90</td>\n",
              "      <td>81</td>\n",
              "      <td>143.0</td>\n",
              "      <td>66.5</td>\n",
              "      <td>834344</td>\n",
              "    </tr>\n",
              "    <tr>\n",
              "      <th>33</th>\n",
              "      <td>Female</td>\n",
              "      <td>133</td>\n",
              "      <td>129</td>\n",
              "      <td>128</td>\n",
              "      <td>153.0</td>\n",
              "      <td>66.5</td>\n",
              "      <td>948066</td>\n",
              "    </tr>\n",
              "    <tr>\n",
              "      <th>34</th>\n",
              "      <td>Male</td>\n",
              "      <td>140</td>\n",
              "      <td>150</td>\n",
              "      <td>124</td>\n",
              "      <td>144.0</td>\n",
              "      <td>70.5</td>\n",
              "      <td>949395</td>\n",
              "    </tr>\n",
              "    <tr>\n",
              "      <th>35</th>\n",
              "      <td>Female</td>\n",
              "      <td>88</td>\n",
              "      <td>86</td>\n",
              "      <td>94</td>\n",
              "      <td>139.0</td>\n",
              "      <td>64.5</td>\n",
              "      <td>893983</td>\n",
              "    </tr>\n",
              "    <tr>\n",
              "      <th>36</th>\n",
              "      <td>Male</td>\n",
              "      <td>81</td>\n",
              "      <td>90</td>\n",
              "      <td>74</td>\n",
              "      <td>148.0</td>\n",
              "      <td>74.0</td>\n",
              "      <td>930016</td>\n",
              "    </tr>\n",
              "    <tr>\n",
              "      <th>37</th>\n",
              "      <td>Male</td>\n",
              "      <td>89</td>\n",
              "      <td>91</td>\n",
              "      <td>89</td>\n",
              "      <td>179.0</td>\n",
              "      <td>75.5</td>\n",
              "      <td>935863</td>\n",
              "    </tr>\n",
              "  </tbody>\n",
              "</table>\n",
              "</div>\n",
              "    <div class=\"colab-df-buttons\">\n",
              "\n",
              "  <div class=\"colab-df-container\">\n",
              "    <button class=\"colab-df-convert\" onclick=\"convertToInteractive('df-673cf115-4c42-409c-90e8-36e9a1d49c9d')\"\n",
              "            title=\"Convert this dataframe to an interactive table.\"\n",
              "            style=\"display:none;\">\n",
              "\n",
              "  <svg xmlns=\"http://www.w3.org/2000/svg\" height=\"24px\" viewBox=\"0 -960 960 960\">\n",
              "    <path d=\"M120-120v-720h720v720H120Zm60-500h600v-160H180v160Zm220 220h160v-160H400v160Zm0 220h160v-160H400v160ZM180-400h160v-160H180v160Zm440 0h160v-160H620v160ZM180-180h160v-160H180v160Zm440 0h160v-160H620v160Z\"/>\n",
              "  </svg>\n",
              "    </button>\n",
              "\n",
              "  <style>\n",
              "    .colab-df-container {\n",
              "      display:flex;\n",
              "      gap: 12px;\n",
              "    }\n",
              "\n",
              "    .colab-df-convert {\n",
              "      background-color: #E8F0FE;\n",
              "      border: none;\n",
              "      border-radius: 50%;\n",
              "      cursor: pointer;\n",
              "      display: none;\n",
              "      fill: #1967D2;\n",
              "      height: 32px;\n",
              "      padding: 0 0 0 0;\n",
              "      width: 32px;\n",
              "    }\n",
              "\n",
              "    .colab-df-convert:hover {\n",
              "      background-color: #E2EBFA;\n",
              "      box-shadow: 0px 1px 2px rgba(60, 64, 67, 0.3), 0px 1px 3px 1px rgba(60, 64, 67, 0.15);\n",
              "      fill: #174EA6;\n",
              "    }\n",
              "\n",
              "    .colab-df-buttons div {\n",
              "      margin-bottom: 4px;\n",
              "    }\n",
              "\n",
              "    [theme=dark] .colab-df-convert {\n",
              "      background-color: #3B4455;\n",
              "      fill: #D2E3FC;\n",
              "    }\n",
              "\n",
              "    [theme=dark] .colab-df-convert:hover {\n",
              "      background-color: #434B5C;\n",
              "      box-shadow: 0px 1px 3px 1px rgba(0, 0, 0, 0.15);\n",
              "      filter: drop-shadow(0px 1px 2px rgba(0, 0, 0, 0.3));\n",
              "      fill: #FFFFFF;\n",
              "    }\n",
              "  </style>\n",
              "\n",
              "    <script>\n",
              "      const buttonEl =\n",
              "        document.querySelector('#df-673cf115-4c42-409c-90e8-36e9a1d49c9d button.colab-df-convert');\n",
              "      buttonEl.style.display =\n",
              "        google.colab.kernel.accessAllowed ? 'block' : 'none';\n",
              "\n",
              "      async function convertToInteractive(key) {\n",
              "        const element = document.querySelector('#df-673cf115-4c42-409c-90e8-36e9a1d49c9d');\n",
              "        const dataTable =\n",
              "          await google.colab.kernel.invokeFunction('convertToInteractive',\n",
              "                                                    [key], {});\n",
              "        if (!dataTable) return;\n",
              "\n",
              "        const docLinkHtml = 'Like what you see? Visit the ' +\n",
              "          '<a target=\"_blank\" href=https://colab.research.google.com/notebooks/data_table.ipynb>data table notebook</a>'\n",
              "          + ' to learn more about interactive tables.';\n",
              "        element.innerHTML = '';\n",
              "        dataTable['output_type'] = 'display_data';\n",
              "        await google.colab.output.renderOutput(dataTable, element);\n",
              "        const docLink = document.createElement('div');\n",
              "        docLink.innerHTML = docLinkHtml;\n",
              "        element.appendChild(docLink);\n",
              "      }\n",
              "    </script>\n",
              "  </div>\n",
              "\n",
              "\n",
              "<div id=\"df-2cd10923-b953-4041-aa92-5f8c44b7cafc\">\n",
              "  <button class=\"colab-df-quickchart\" onclick=\"quickchart('df-2cd10923-b953-4041-aa92-5f8c44b7cafc')\"\n",
              "            title=\"Suggest charts\"\n",
              "            style=\"display:none;\">\n",
              "\n",
              "<svg xmlns=\"http://www.w3.org/2000/svg\" height=\"24px\"viewBox=\"0 0 24 24\"\n",
              "     width=\"24px\">\n",
              "    <g>\n",
              "        <path d=\"M19 3H5c-1.1 0-2 .9-2 2v14c0 1.1.9 2 2 2h14c1.1 0 2-.9 2-2V5c0-1.1-.9-2-2-2zM9 17H7v-7h2v7zm4 0h-2V7h2v10zm4 0h-2v-4h2v4z\"/>\n",
              "    </g>\n",
              "</svg>\n",
              "  </button>\n",
              "\n",
              "<style>\n",
              "  .colab-df-quickchart {\n",
              "      --bg-color: #E8F0FE;\n",
              "      --fill-color: #1967D2;\n",
              "      --hover-bg-color: #E2EBFA;\n",
              "      --hover-fill-color: #174EA6;\n",
              "      --disabled-fill-color: #AAA;\n",
              "      --disabled-bg-color: #DDD;\n",
              "  }\n",
              "\n",
              "  [theme=dark] .colab-df-quickchart {\n",
              "      --bg-color: #3B4455;\n",
              "      --fill-color: #D2E3FC;\n",
              "      --hover-bg-color: #434B5C;\n",
              "      --hover-fill-color: #FFFFFF;\n",
              "      --disabled-bg-color: #3B4455;\n",
              "      --disabled-fill-color: #666;\n",
              "  }\n",
              "\n",
              "  .colab-df-quickchart {\n",
              "    background-color: var(--bg-color);\n",
              "    border: none;\n",
              "    border-radius: 50%;\n",
              "    cursor: pointer;\n",
              "    display: none;\n",
              "    fill: var(--fill-color);\n",
              "    height: 32px;\n",
              "    padding: 0;\n",
              "    width: 32px;\n",
              "  }\n",
              "\n",
              "  .colab-df-quickchart:hover {\n",
              "    background-color: var(--hover-bg-color);\n",
              "    box-shadow: 0 1px 2px rgba(60, 64, 67, 0.3), 0 1px 3px 1px rgba(60, 64, 67, 0.15);\n",
              "    fill: var(--button-hover-fill-color);\n",
              "  }\n",
              "\n",
              "  .colab-df-quickchart-complete:disabled,\n",
              "  .colab-df-quickchart-complete:disabled:hover {\n",
              "    background-color: var(--disabled-bg-color);\n",
              "    fill: var(--disabled-fill-color);\n",
              "    box-shadow: none;\n",
              "  }\n",
              "\n",
              "  .colab-df-spinner {\n",
              "    border: 2px solid var(--fill-color);\n",
              "    border-color: transparent;\n",
              "    border-bottom-color: var(--fill-color);\n",
              "    animation:\n",
              "      spin 1s steps(1) infinite;\n",
              "  }\n",
              "\n",
              "  @keyframes spin {\n",
              "    0% {\n",
              "      border-color: transparent;\n",
              "      border-bottom-color: var(--fill-color);\n",
              "      border-left-color: var(--fill-color);\n",
              "    }\n",
              "    20% {\n",
              "      border-color: transparent;\n",
              "      border-left-color: var(--fill-color);\n",
              "      border-top-color: var(--fill-color);\n",
              "    }\n",
              "    30% {\n",
              "      border-color: transparent;\n",
              "      border-left-color: var(--fill-color);\n",
              "      border-top-color: var(--fill-color);\n",
              "      border-right-color: var(--fill-color);\n",
              "    }\n",
              "    40% {\n",
              "      border-color: transparent;\n",
              "      border-right-color: var(--fill-color);\n",
              "      border-top-color: var(--fill-color);\n",
              "    }\n",
              "    60% {\n",
              "      border-color: transparent;\n",
              "      border-right-color: var(--fill-color);\n",
              "    }\n",
              "    80% {\n",
              "      border-color: transparent;\n",
              "      border-right-color: var(--fill-color);\n",
              "      border-bottom-color: var(--fill-color);\n",
              "    }\n",
              "    90% {\n",
              "      border-color: transparent;\n",
              "      border-bottom-color: var(--fill-color);\n",
              "    }\n",
              "  }\n",
              "</style>\n",
              "\n",
              "  <script>\n",
              "    async function quickchart(key) {\n",
              "      const quickchartButtonEl =\n",
              "        document.querySelector('#' + key + ' button');\n",
              "      quickchartButtonEl.disabled = true;  // To prevent multiple clicks.\n",
              "      quickchartButtonEl.classList.add('colab-df-spinner');\n",
              "      try {\n",
              "        const charts = await google.colab.kernel.invokeFunction(\n",
              "            'suggestCharts', [key], {});\n",
              "      } catch (error) {\n",
              "        console.error('Error during call to suggestCharts:', error);\n",
              "      }\n",
              "      quickchartButtonEl.classList.remove('colab-df-spinner');\n",
              "      quickchartButtonEl.classList.add('colab-df-quickchart-complete');\n",
              "    }\n",
              "    (() => {\n",
              "      let quickchartButtonEl =\n",
              "        document.querySelector('#df-2cd10923-b953-4041-aa92-5f8c44b7cafc button');\n",
              "      quickchartButtonEl.style.display =\n",
              "        google.colab.kernel.accessAllowed ? 'block' : 'none';\n",
              "    })();\n",
              "  </script>\n",
              "</div>\n",
              "\n",
              "    </div>\n",
              "  </div>\n"
            ],
            "application/vnd.google.colaboratory.intrinsic+json": {
              "type": "dataframe",
              "summary": "{\n  \"name\": \"bd\",\n  \"rows\": 38,\n  \"fields\": [\n    {\n      \"column\": \"Gender\",\n      \"properties\": {\n        \"dtype\": \"category\",\n        \"num_unique_values\": 2,\n        \"samples\": [\n          \"Male\",\n          \"Female\"\n        ],\n        \"semantic_type\": \"\",\n        \"description\": \"\"\n      }\n    },\n    {\n      \"column\": \"FSIQ\",\n      \"properties\": {\n        \"dtype\": \"number\",\n        \"std\": 23,\n        \"min\": 77,\n        \"max\": 144,\n        \"num_unique_values\": 26,\n        \"samples\": [\n          141,\n          97\n        ],\n        \"semantic_type\": \"\",\n        \"description\": \"\"\n      }\n    },\n    {\n      \"column\": \"VIQ\",\n      \"properties\": {\n        \"dtype\": \"number\",\n        \"std\": 22,\n        \"min\": 71,\n        \"max\": 150,\n        \"num_unique_values\": 20,\n        \"samples\": [\n          132,\n          83\n        ],\n        \"semantic_type\": \"\",\n        \"description\": \"\"\n      }\n    },\n    {\n      \"column\": \"PIQ\",\n      \"properties\": {\n        \"dtype\": \"number\",\n        \"std\": 22,\n        \"min\": 72,\n        \"max\": 150,\n        \"num_unique_values\": 21,\n        \"samples\": [\n          124,\n          81\n        ],\n        \"semantic_type\": \"\",\n        \"description\": \"\"\n      }\n    },\n    {\n      \"column\": \"Weight\",\n      \"properties\": {\n        \"dtype\": \"number\",\n        \"std\": 23.478509286005146,\n        \"min\": 106.0,\n        \"max\": 192.0,\n        \"num_unique_values\": 32,\n        \"samples\": [\n          139.0,\n          186.0\n        ],\n        \"semantic_type\": \"\",\n        \"description\": \"\"\n      }\n    },\n    {\n      \"column\": \"Height\",\n      \"properties\": {\n        \"dtype\": \"number\",\n        \"std\": 3.993789631262101,\n        \"min\": 62.0,\n        \"max\": 77.0,\n        \"num_unique_values\": 22,\n        \"samples\": [\n          64.5,\n          62.0\n        ],\n        \"semantic_type\": \"\",\n        \"description\": \"\"\n      }\n    },\n    {\n      \"column\": \"MRI_Count\",\n      \"properties\": {\n        \"dtype\": \"number\",\n        \"std\": 72561,\n        \"min\": 790619,\n        \"max\": 1079549,\n        \"num_unique_values\": 38,\n        \"samples\": [\n          948066,\n          930016\n        ],\n        \"semantic_type\": \"\",\n        \"description\": \"\"\n      }\n    }\n  ]\n}"
            }
          },
          "metadata": {},
          "execution_count": 71
        }
      ]
    },
    {
      "cell_type": "code",
      "source": [
        "#d) Calcular imc en cada fila y agregarlo como columna\n",
        "bd['IMC'] = bd['Height']/(bd['Weight']/100)**2\n",
        "print('\\n',bd)"
      ],
      "metadata": {
        "colab": {
          "base_uri": "https://localhost:8080/"
        },
        "id": "jDC7MTijqm1v",
        "outputId": "82e43869-4343-4948-d0a7-8abd92d67936"
      },
      "execution_count": 76,
      "outputs": [
        {
          "output_type": "stream",
          "name": "stdout",
          "text": [
            "\n",
            "     Unnamed: 0  Gender  FSIQ  VIQ  PIQ  Weight  Height  MRI_Count        IMC\n",
            "0            1  Female   133  132  124   118.0    64.5     816932  46.322896\n",
            "1            3    Male   139  123  150   143.0    73.3    1038437  35.845274\n",
            "2            4    Male   133  129  128   172.0    68.8     965353  23.255814\n",
            "3            5  Female   137  132  134   147.0    65.0     951545  30.080059\n",
            "4            6  Female    99   90  110   146.0    69.0     928799  32.370051\n",
            "5            7  Female   138  136  131   138.0    64.5     991305  33.868935\n",
            "6            8  Female    92   90   98   175.0    66.0     854258  21.551020\n",
            "7            9    Male    89   93   84   134.0    66.3     904858  36.923591\n",
            "8           10    Male   133  114  147   172.0    68.8     955466  23.255814\n",
            "9           11  Female   132  129  124   118.0    64.5     833868  46.322896\n",
            "10          12    Male   141  150  128   151.0    70.0    1079549  30.700408\n",
            "11          13    Male   135  129  124   155.0    69.0     924059  28.720083\n",
            "12          14  Female   140  120  147   155.0    70.5     856472  29.344433\n",
            "13          15  Female    96  100   90   146.0    66.0     878897  30.962657\n",
            "14          16  Female    83   71   96   135.0    68.0     865363  37.311385\n",
            "15          17  Female   132  132  120   127.0    68.5     852244  42.470085\n",
            "16          18    Male   100   96  102   178.0    73.5     945088  23.197829\n",
            "17          19  Female   101  112   84   136.0    66.3     808020  35.845588\n",
            "18          20    Male    80   77   86   180.0    70.0     889083  21.604938\n",
            "19          22    Male    97  107   84   186.0    76.5     905940  22.112383\n",
            "20          23  Female   135  129  134   122.0    62.0     790619  41.655469\n",
            "21          24    Male   139  145  128   132.0    68.0     955003  39.026630\n",
            "22          25  Female    91   86  102   114.0    63.0     831772  48.476454\n",
            "23          26    Male   141  145  131   171.0    72.0     935494  24.622961\n",
            "24          27  Female    85   90   84   140.0    68.0     798612  34.693878\n",
            "25          28    Male   103   96  110   187.0    77.0    1062462  22.019503\n",
            "26          29  Female    77   83   72   106.0    63.0     793549  56.069776\n",
            "27          30  Female   130  126  124   159.0    66.5     866662  26.304339\n",
            "28          31  Female   133  126  132   127.0    62.5     857782  38.750078\n",
            "29          32    Male   144  145  137   191.0    67.0     949589  18.365725\n",
            "30          33    Male   103   96  110   192.0    75.5     997925  20.480686\n",
            "31          34    Male    90   96   86   181.0    69.0     879987  21.061628\n",
            "32          35  Female    83   90   81   143.0    66.5     834344  32.519928\n",
            "33          36  Female   133  129  128   153.0    66.5     948066  28.407877\n",
            "34          37    Male   140  150  124   144.0    70.5     949395  33.998843\n",
            "35          38  Female    88   86   94   139.0    64.5     893983  33.383365\n",
            "36          39    Male    81   90   74   148.0    74.0     930016  33.783784\n",
            "37          40    Male    89   91   89   179.0    75.5     935863  23.563559\n"
          ]
        }
      ]
    },
    {
      "cell_type": "code",
      "source": [
        "#e) Clasificar por IMC\n",
        "\n",
        "for i in range(len(bd)):\n",
        "    if bd['IMC'][i] < 18.5:\n",
        "        bd.loc[i, 'Clasificacion'] = 'Bajo peso'\n",
        "    elif bd['IMC'][i] >= 18.5 and bd['IMC'][i] < 24.9:\n",
        "        bd.loc[i, 'Clasificacion'] = 'Normal'\n",
        "    elif bd['IMC'][i] >= 25 and bd['IMC'][i] < 29.9:\n",
        "        bd.loc[i, 'Clasificacion'] = 'Sobrepeso'\n",
        "    else:\n",
        "        bd.loc[i, 'Clasificacion'] = 'Obesidad'\n",
        "\n",
        "\n",
        "print('\\n',bd)"
      ],
      "metadata": {
        "colab": {
          "base_uri": "https://localhost:8080/"
        },
        "id": "50oaRGm1qqZ5",
        "outputId": "ca82aea2-c101-4ffc-cb25-6eaae4ea860d"
      },
      "execution_count": 77,
      "outputs": [
        {
          "output_type": "stream",
          "name": "stdout",
          "text": [
            "\n",
            "     Unnamed: 0  Gender  FSIQ  VIQ  PIQ  Weight  Height  MRI_Count        IMC  \\\n",
            "0            1  Female   133  132  124   118.0    64.5     816932  46.322896   \n",
            "1            3    Male   139  123  150   143.0    73.3    1038437  35.845274   \n",
            "2            4    Male   133  129  128   172.0    68.8     965353  23.255814   \n",
            "3            5  Female   137  132  134   147.0    65.0     951545  30.080059   \n",
            "4            6  Female    99   90  110   146.0    69.0     928799  32.370051   \n",
            "5            7  Female   138  136  131   138.0    64.5     991305  33.868935   \n",
            "6            8  Female    92   90   98   175.0    66.0     854258  21.551020   \n",
            "7            9    Male    89   93   84   134.0    66.3     904858  36.923591   \n",
            "8           10    Male   133  114  147   172.0    68.8     955466  23.255814   \n",
            "9           11  Female   132  129  124   118.0    64.5     833868  46.322896   \n",
            "10          12    Male   141  150  128   151.0    70.0    1079549  30.700408   \n",
            "11          13    Male   135  129  124   155.0    69.0     924059  28.720083   \n",
            "12          14  Female   140  120  147   155.0    70.5     856472  29.344433   \n",
            "13          15  Female    96  100   90   146.0    66.0     878897  30.962657   \n",
            "14          16  Female    83   71   96   135.0    68.0     865363  37.311385   \n",
            "15          17  Female   132  132  120   127.0    68.5     852244  42.470085   \n",
            "16          18    Male   100   96  102   178.0    73.5     945088  23.197829   \n",
            "17          19  Female   101  112   84   136.0    66.3     808020  35.845588   \n",
            "18          20    Male    80   77   86   180.0    70.0     889083  21.604938   \n",
            "19          22    Male    97  107   84   186.0    76.5     905940  22.112383   \n",
            "20          23  Female   135  129  134   122.0    62.0     790619  41.655469   \n",
            "21          24    Male   139  145  128   132.0    68.0     955003  39.026630   \n",
            "22          25  Female    91   86  102   114.0    63.0     831772  48.476454   \n",
            "23          26    Male   141  145  131   171.0    72.0     935494  24.622961   \n",
            "24          27  Female    85   90   84   140.0    68.0     798612  34.693878   \n",
            "25          28    Male   103   96  110   187.0    77.0    1062462  22.019503   \n",
            "26          29  Female    77   83   72   106.0    63.0     793549  56.069776   \n",
            "27          30  Female   130  126  124   159.0    66.5     866662  26.304339   \n",
            "28          31  Female   133  126  132   127.0    62.5     857782  38.750078   \n",
            "29          32    Male   144  145  137   191.0    67.0     949589  18.365725   \n",
            "30          33    Male   103   96  110   192.0    75.5     997925  20.480686   \n",
            "31          34    Male    90   96   86   181.0    69.0     879987  21.061628   \n",
            "32          35  Female    83   90   81   143.0    66.5     834344  32.519928   \n",
            "33          36  Female   133  129  128   153.0    66.5     948066  28.407877   \n",
            "34          37    Male   140  150  124   144.0    70.5     949395  33.998843   \n",
            "35          38  Female    88   86   94   139.0    64.5     893983  33.383365   \n",
            "36          39    Male    81   90   74   148.0    74.0     930016  33.783784   \n",
            "37          40    Male    89   91   89   179.0    75.5     935863  23.563559   \n",
            "\n",
            "   Clasificacion  \n",
            "0       Obesidad  \n",
            "1       Obesidad  \n",
            "2         Normal  \n",
            "3       Obesidad  \n",
            "4       Obesidad  \n",
            "5       Obesidad  \n",
            "6         Normal  \n",
            "7       Obesidad  \n",
            "8         Normal  \n",
            "9       Obesidad  \n",
            "10      Obesidad  \n",
            "11     Sobrepeso  \n",
            "12     Sobrepeso  \n",
            "13      Obesidad  \n",
            "14      Obesidad  \n",
            "15      Obesidad  \n",
            "16        Normal  \n",
            "17      Obesidad  \n",
            "18        Normal  \n",
            "19        Normal  \n",
            "20      Obesidad  \n",
            "21      Obesidad  \n",
            "22      Obesidad  \n",
            "23        Normal  \n",
            "24      Obesidad  \n",
            "25        Normal  \n",
            "26      Obesidad  \n",
            "27     Sobrepeso  \n",
            "28      Obesidad  \n",
            "29     Bajo peso  \n",
            "30        Normal  \n",
            "31        Normal  \n",
            "32      Obesidad  \n",
            "33     Sobrepeso  \n",
            "34      Obesidad  \n",
            "35      Obesidad  \n",
            "36      Obesidad  \n",
            "37        Normal  \n"
          ]
        }
      ]
    }
  ]
}